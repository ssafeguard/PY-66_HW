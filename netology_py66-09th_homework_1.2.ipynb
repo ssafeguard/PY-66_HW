{
 "cells": [
  {
   "cell_type": "code",
   "execution_count": 5,
   "metadata": {},
   "outputs": [
    {
     "name": "stdout",
     "output_type": "stream",
     "text": [
      "{'Омлет': [{'ingredient_name': 'Яйцо', 'quantity': '2', 'measure': 'шт'}, {'ingredient_name': 'Молоко', 'quantity': '100', 'measure': 'мл'}, {'ingredient_name': 'Помидор', 'quantity': '2', 'measure': 'шт'}], 'Утка по-пекински': [{'ingredient_name': 'Утка', 'quantity': '1', 'measure': 'шт'}, {'ingredient_name': 'Вода', 'quantity': '2', 'measure': 'л'}, {'ingredient_name': 'Мед', 'quantity': '3', 'measure': 'ст.л'}, {'ingredient_name': 'Соевый соус', 'quantity': '60', 'measure': 'мл'}], 'Запеченный картофель': [{'ingredient_name': 'Картофель', 'quantity': '1', 'measure': 'кг'}, {'ingredient_name': 'Чеснок', 'quantity': '3', 'measure': 'зубч'}, {'ingredient_name': 'Сыр гауда', 'quantity': '100', 'measure': 'г'}], 'Фахитос': [{'ingredient_name': 'Говядина', 'quantity': '500', 'measure': 'г'}, {'ingredient_name': 'Перец сладкий', 'quantity': '1', 'measure': 'шт'}, {'ingredient_name': 'Лаваш', 'quantity': '2', 'measure': 'шт'}, {'ingredient_name': 'Винный уксус', 'quantity': '1', 'measure': 'ст.л'}, {'ingredient_name': 'Помидор', 'quantity': '2', 'measure': 'шт'}]} \n",
      "\n",
      "{'Яйцо': {'measure': 'шт', 'quantity': 6}, 'Молоко': {'measure': 'мл', 'quantity': 300}, 'Помидор': {'measure': 'шт', 'quantity': 12}, 'Говядина': {'measure': 'г', 'quantity': 1500}, 'Перец сладкий': {'measure': 'шт', 'quantity': 3}, 'Лаваш': {'measure': 'шт', 'quantity': 6}, 'Винный уксус': {'measure': 'ст.л', 'quantity': 3}}\n"
     ]
    }
   ],
   "source": [
    "cook_book = {}\n",
    "\n",
    "with open ('recipes.txt', encoding='utf-8') as file:\n",
    "    for l in file:\n",
    "        dish = l.strip()\n",
    "        ingredients = []\n",
    "        ingredient_count = file.readline()\n",
    "        for i in range(int(ingredient_count)):\n",
    "            ingredient_name, quantity, measure = file.readline().strip().split(' | ')\n",
    "            ingredients.append({\"ingredient_name\": ingredient_name,\n",
    "                             \"quantity\": quantity,\n",
    "                             \"measure\": measure})\n",
    "        blank_line = file.readline()\n",
    "        cook_book[dish] = ingredients\n",
    "print(cook_book, '\\n')\n",
    "\n",
    "def get_shop_list_by_dishes(dishes, person_count):\n",
    "    shop_list = {}\n",
    "    amount = {}\n",
    "    for dish in dishes:\n",
    "        ingredients = cook_book[dish]\n",
    "        for i in ingredients:\n",
    "            ingredient = i['ingredient_name']\n",
    "            amount['measure'] = i.get('measure')\n",
    "            if ingredient not in shop_list.keys():\n",
    "                amount['quantity'] = int(i.get('quantity')) * person_count\n",
    "            else:\n",
    "                amount['quantity'] = int(i.get('quantity')) * person_count + int(shop_list[ingredient]['quantity'])\n",
    "            shop_list[ingredient] = amount\n",
    "            amount = {}\n",
    "    return shop_list\n",
    "\n",
    "print(get_shop_list_by_dishes(['Омлет', 'Фахитос'], 3))"
   ]
  }
 ],
 "metadata": {
  "kernelspec": {
   "display_name": "Python 3.10.5 64-bit",
   "language": "python",
   "name": "python3"
  },
  "language_info": {
   "codemirror_mode": {
    "name": "ipython",
    "version": 3
   },
   "file_extension": ".py",
   "mimetype": "text/x-python",
   "name": "python",
   "nbconvert_exporter": "python",
   "pygments_lexer": "ipython3",
   "version": "3.10.5"
  },
  "orig_nbformat": 4,
  "vscode": {
   "interpreter": {
    "hash": "ad0253daf9bab973cfe1924df20b38293b9522258bed75395b9b1944f5d1af72"
   }
  }
 },
 "nbformat": 4,
 "nbformat_minor": 2
}
