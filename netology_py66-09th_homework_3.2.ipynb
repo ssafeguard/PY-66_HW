{
 "cells": [
  {
   "cell_type": "code",
   "execution_count": 1,
   "metadata": {},
   "outputs": [
    {
     "name": "stdout",
     "output_type": "stream",
     "text": [
      "2.txt\n",
      "1\n",
      "Тревога началась в тринадцать часов ноль две минуты.\n",
      "1.txt\n",
      "8\n",
      "Начальник  полиции\n",
      "лично позвонил в шестнадцатый участок. А спустя  одну минуту тридцать секунд\n",
      "в дежурке и других комнатах нижнего этажа раздались звонки\n",
      "     Когда Иенсен  --  комиссар  шестнадцатого  участка --  вышел  из своего\n",
      "кабинета,  звонки еще  не смолкли. Иенсен был мужчина средних лет,  обычного\n",
      "сложения, с лицом плоским и невыразительным. На последней ступеньке винтовой\n",
      "лестницы  он задержался  и  обвел взглядом помещение дежурки. Затем поправил\n",
      "галстук и проследовал к машине.\n",
      "3.txt\n",
      "9\n",
      "  В  это время  дня  машины текли сплошным  блестящим  потоком,  а  среди\n",
      "потока, будто  колонны из бетона  и стекла, высились  здания. Здесь,  в мире\n",
      "резких граней,  люди  на тротуарах  выглядели  несчастными и  неприкаянными.\n",
      "Одеты они были хорошо, но как-то удивительно походили друг на друга и все до\n",
      "одного спешили. Они шли нестройными  вереницами, широко разливались, завидев\n",
      "красный  светофор или  металлический  блеск кафе-автоматов.  Они непрестанно\n",
      "озирались по сторонам и теребили портфели и сумочки.\n",
      "     Полицейские  машины  с  включенными  сиренами  пробивались  сквозь  эту\n",
      "толчею.\n"
     ]
    }
   ],
   "source": [
    "from os import listdir\n",
    "from os.path import isfile, join\n",
    "\n",
    "files = [f for f in listdir('sorted/') if isfile(join('sorted/', f))]\n",
    "line_counter_dict = {}\n",
    "for filename in files:\n",
    "    with open('sorted/'+filename, 'r', encoding='utf-8') as f:\n",
    "        line_counter_dict[filename] = len(f.readlines())\n",
    "\n",
    "sorted_line_counter = sorted(line_counter_dict.items(), key=lambda x: x[1])\n",
    "\n",
    "for name, lines in sorted_line_counter:\n",
    "    print(name)\n",
    "    print(lines)\n",
    "    with open('sorted/'+name, encoding='utf-8') as f:\n",
    "        for line in f:\n",
    "            print(line.rstrip())"
   ]
  }
 ],
 "metadata": {
  "kernelspec": {
   "display_name": "Python 3.10.5 64-bit",
   "language": "python",
   "name": "python3"
  },
  "language_info": {
   "codemirror_mode": {
    "name": "ipython",
    "version": 3
   },
   "file_extension": ".py",
   "mimetype": "text/x-python",
   "name": "python",
   "nbconvert_exporter": "python",
   "pygments_lexer": "ipython3",
   "version": "3.10.5"
  },
  "orig_nbformat": 4,
  "vscode": {
   "interpreter": {
    "hash": "ad0253daf9bab973cfe1924df20b38293b9522258bed75395b9b1944f5d1af72"
   }
  }
 },
 "nbformat": 4,
 "nbformat_minor": 2
}
